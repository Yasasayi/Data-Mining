{
  "nbformat": 4,
  "nbformat_minor": 0,
  "metadata": {
    "colab": {
      "provenance": [],
      "collapsed_sections": []
    },
    "kernelspec": {
      "name": "python3",
      "display_name": "Python 3"
    },
    "language_info": {
      "name": "python"
    }
  },
  "cells": [
    {
      "cell_type": "markdown",
      "source": [
        "# Homework 2 - Market Basket Analysis\n",
        "\n",
        "> **Data Mining Class, 2022, JBNU**\n",
        "\n",
        "아래 문제의 skeleton 코드를 구현하고 질문에 답하세요. 기본적인 코드는 수정할 필요가 없으며 `Fill your code here` 부분을 완성하면 됩니다. **아래 학번과 이름을 반드시 적어주세요.**\n",
        "\n",
        "* **학번**: 201911832\n",
        "* **이름**: 서민석\n",
        "\n",
        "## Submission Guidline (제출요령)\n",
        "> 모든 코드를 완성하고 난뒤에는 각 cell을 순차적으로 수행하여 결과를 출력하고 상단 메뉴에서 `파일 => 다운로드 => .ipynb 다운로드`를 클릭해서 파일을 다운받습니다. **이때 파일 이름은 반드시 `HW2_이름_학번.ipynb`으로 변경해주셔야 합니다.** 다음 다운로드 받은 파일을 LMS에 제출해주시면 됩니다. \n",
        "* 파일명예시: HW2_고양이_202212345.ipynb\n",
        "\n",
        "## Notes\n",
        "* 숙제의 취지를 해하지 않는 선에서 다른 package나 API 활용 가능합니다 (예, apriori를 구해주는 다른 package/API는 사용하면 안됩니다). \n",
        "\n",
        "## Warning\n",
        "* 본 자료는 전북대학교 컴퓨터공학과 데이터마이닝 수업에서 사용되는 자료이며 무단 전재 및 재배포, 복사를 엄격히 금지합니다.\n",
        "* 본 코드를 포함한 모든 수업자료에는 저작권법 제25조에 의해 수업 목적으로 이용한 저작물이 포함되어 있으므로 본 수업자료를 외부에 공개, 게시, 공유하는 것을 금지합니다. "
      ],
      "metadata": {
        "id": "4OAO2EaR3Lks"
      }
    },
    {
      "cell_type": "markdown",
      "source": [
        "## Overview\n",
        "\n",
        "이번 과제에서는 Spark을 활용하여 basket (transaction) 데이터로부터 연관 규칙 (association rule)추출을 위한 A-Priori 알고리즘을 구현하고 추출된 규칙을 분석하는 것이 목표입니다. "
      ],
      "metadata": {
        "id": "n3611J-R3Whl"
      }
    },
    {
      "cell_type": "markdown",
      "source": [
        "### Setup\n",
        "아래 코드를 실행해서 과제에 필요한 package들을 설치해주세요. "
      ],
      "metadata": {
        "id": "fhwqblJz3uw_"
      }
    },
    {
      "cell_type": "code",
      "execution_count": 1,
      "metadata": {
        "id": "pdYscS5-3IYb",
        "colab": {
          "base_uri": "https://localhost:8080/"
        },
        "outputId": "5152313f-543d-4711-f395-f3bc4aad8d54"
      },
      "outputs": [
        {
          "output_type": "stream",
          "name": "stdout",
          "text": [
            "\u001b[K     |████████████████████████████████| 281.3 MB 43 kB/s \n",
            "\u001b[K     |████████████████████████████████| 200 kB 49.4 MB/s \n",
            "\u001b[K     |████████████████████████████████| 199 kB 71.0 MB/s \n",
            "\u001b[?25h  Building wheel for pyspark (setup.py) ... \u001b[?25l\u001b[?25hdone\n"
          ]
        }
      ],
      "source": [
        "!pip install -q pyspark py4j --quiet"
      ]
    },
    {
      "cell_type": "markdown",
      "source": [
        "### Data Preparation\n",
        "Market basket 분석을 위하여 transaction (basket) 정보가 담긴 데이터를 다운로드 합니다. 아래 코드는 `baskets.txt` 파일을 다운로드합니다. "
      ],
      "metadata": {
        "id": "Fq5yIWD5IQdz"
      }
    },
    {
      "cell_type": "code",
      "source": [
        "!wget -nc -q https://raw.githubusercontent.com/jinhongjung/raw_data/master/assignment2/baskets.txt"
      ],
      "metadata": {
        "id": "LcD_XSyMIccn"
      },
      "execution_count": 2,
      "outputs": []
    },
    {
      "cell_type": "markdown",
      "source": [
        "파일의 내용을 살펴보기 위해서 다음의 명령어를 실행합니다."
      ],
      "metadata": {
        "id": "ZGk7D3kOI0p2"
      }
    },
    {
      "cell_type": "code",
      "source": [
        "!head baskets.txt"
      ],
      "metadata": {
        "id": "H10nSTY5I4ks",
        "colab": {
          "base_uri": "https://localhost:8080/"
        },
        "outputId": "d52d39c1-6888-43f9-dcb6-1ec49b114ace"
      },
      "execution_count": 3,
      "outputs": [
        {
          "output_type": "stream",
          "name": "stdout",
          "text": [
            "whole milk,pastry,salty snack\n",
            "sausage,whole milk,semi-finished bread,yogurt\n",
            "soda,pickled vegetables\n",
            "canned beer,misc. beverages\n",
            "sausage,hygiene articles\n",
            "sausage,whole milk,rolls/buns\n",
            "whole milk,soda\n",
            "frankfurter,soda,whipped/sour cream\n",
            "frankfurter,curd\n",
            "beef,white bread\n"
          ]
        }
      ]
    },
    {
      "cell_type": "markdown",
      "source": [
        "`baskets.txt`에서 한 줄은 하나의 transaction (basket)을 의미합니다. 각 줄은 구매한 상품들로 이루어져 있고 `,` (comma)로 구분됩니다. 예로 첫 번째 바구니에는 `whole milk`, `pastry`, `salty snack`의 상품이 있습니다. "
      ],
      "metadata": {
        "id": "qWWcLtVZJB2f"
      }
    },
    {
      "cell_type": "code",
      "source": [
        "!wc -l baskets.txt"
      ],
      "metadata": {
        "id": "iKNfqjv5Nohb",
        "colab": {
          "base_uri": "https://localhost:8080/"
        },
        "outputId": "12bbecfd-7ec3-4d31-c451-e5319e42a90b"
      },
      "execution_count": 4,
      "outputs": [
        {
          "output_type": "stream",
          "name": "stdout",
          "text": [
            "14963 baskets.txt\n"
          ]
        }
      ]
    },
    {
      "cell_type": "markdown",
      "source": [
        "`baskets.txt`은 총 `14,963`의 lines으로 구성되어 있으며 하나의 line은 하나의 basket을 의미하므로 총 `14,963`개의 basket이 입력으로 주어집니다. "
      ],
      "metadata": {
        "id": "1j2Psi2jNtWX"
      }
    },
    {
      "cell_type": "markdown",
      "source": [
        "### Program Implementation for A-Priori Algorithm\n",
        "\n",
        "이제 본격적으로 pyspark를 이용하여 A-Priori 알고리즘을 구현할 단계입니다. "
      ],
      "metadata": {
        "id": "DHum4nUdJrZq"
      }
    },
    {
      "cell_type": "markdown",
      "source": [
        "#### Spark Initialization\n",
        "먼저 SparkConext를 생성하여 spark를 초기화해줍니다. "
      ],
      "metadata": {
        "id": "bOHcAibHJ_hH"
      }
    },
    {
      "cell_type": "code",
      "source": [
        "from pyspark import SparkContext\n",
        "\n",
        "sc = SparkContext(\"local\", \"a-priori\")"
      ],
      "metadata": {
        "id": "iGYeK_DdKBZ-"
      },
      "execution_count": 5,
      "outputs": []
    },
    {
      "cell_type": "markdown",
      "source": [
        "#### Data Load and Preprocessing\n",
        "\n",
        "`textFile()`을 이용해서 basket 데이터를 읽어옵니다. "
      ],
      "metadata": {
        "id": "YjRRCLjfKbzI"
      }
    },
    {
      "cell_type": "code",
      "source": [
        "data_path = './baskets.txt'\n",
        "data_rdd = sc.textFile(data_path)\n",
        "data_rdd.take(5)"
      ],
      "metadata": {
        "id": "v7oTZ0frKeVH",
        "colab": {
          "base_uri": "https://localhost:8080/"
        },
        "outputId": "bc76671d-8d1b-4cb9-bd53-f288243b4efb"
      },
      "execution_count": 6,
      "outputs": [
        {
          "output_type": "execute_result",
          "data": {
            "text/plain": [
              "['whole milk,pastry,salty snack',\n",
              " 'sausage,whole milk,semi-finished bread,yogurt',\n",
              " 'soda,pickled vegetables',\n",
              " 'canned beer,misc. beverages',\n",
              " 'sausage,hygiene articles']"
            ]
          },
          "metadata": {},
          "execution_count": 6
        }
      ]
    },
    {
      "cell_type": "markdown",
      "source": [
        "`data_rdd`는 원본 파일의 각 줄 (line)을 하나의 엔트리로 리스트 형태로 가지고 있습니다. A-Priori 알고리즘의 입력 형태를 갖추기 위해서 다음의 전처리를 수행합니다.\n",
        "- `names`: 고유 상품 (item)의 list로 각 원소는 상품의 이름 (string)입니다.\n",
        "- `name2idx`: 상품의 이름이 주어지면 `names`에서 해당 이름의 index를 반환하는 dictionary입니다. "
      ],
      "metadata": {
        "id": "3AvFrAzSL42y"
      }
    },
    {
      "cell_type": "code",
      "source": [
        "names = data_rdd.flatMap(lambda x: x.split(',')) \\\n",
        "                .groupBy(lambda x: x) \\\n",
        "                .keys() \\\n",
        "                .collect()\n",
        "name2idx = {name:i for (i, name) in enumerate(names)}\n",
        "\n",
        "print(name2idx['herbs']) # 53\n",
        "print(names[53]) #herbs\n",
        "print('# of total items: {}'.format(len(names)))"
      ],
      "metadata": {
        "id": "d2iuVw_GMOmd",
        "colab": {
          "base_uri": "https://localhost:8080/"
        },
        "outputId": "deb5bb07-7649-46d0-85ba-3a5614c9e084"
      },
      "execution_count": 7,
      "outputs": [
        {
          "output_type": "stream",
          "name": "stdout",
          "text": [
            "53\n",
            "herbs\n",
            "# of total items: 167\n"
          ]
        }
      ]
    },
    {
      "cell_type": "markdown",
      "source": [
        "`name2idx`를 이용하여 `data_rdd`의 각 상품을 index로 변환해줍니다. 아래 코드는 순서대로 `,`로 tokenizing을 수행하고, name (string)에서 index (integer)로 변환한 뒤 (list comprehension), 각 list를 정렬합니다. "
      ],
      "metadata": {
        "id": "mWWegJ9SO4OU"
      }
    },
    {
      "cell_type": "code",
      "source": [
        "tran_rdd = data_rdd.map(lambda x: set(x.split(','))) \\\n",
        "                   .map(lambda x: [name2idx[name] for name in x]) \\\n",
        "                   .map(lambda x: sorted(x))\n",
        "\n",
        "print('The first 5 baskets: ' + str(tran_rdd.take(5)))"
      ],
      "metadata": {
        "id": "RuAgZ91GPBXb",
        "colab": {
          "base_uri": "https://localhost:8080/"
        },
        "outputId": "b90db4ed-7ba3-47de-9c7e-a8a3896149cc"
      },
      "execution_count": 8,
      "outputs": [
        {
          "output_type": "stream",
          "name": "stdout",
          "text": [
            "The first 5 baskets: [[0, 1, 2], [0, 3, 4, 5], [6, 7], [8, 9], [3, 10]]\n"
          ]
        }
      ]
    },
    {
      "cell_type": "markdown",
      "source": [
        "결과를 보면 `tran_rdd`의 첫 번째 바구니는 `[0, 1, 2]`로 0번, 1번, 2번 아이템으로 구성된 것을 의미합니다. 나머지 바구니도 같은 방식으로 해석하면 됩니다. "
      ],
      "metadata": {
        "id": "RGW99L58RrZ4"
      }
    },
    {
      "cell_type": "markdown",
      "source": [
        "#### Notations in A-Priori Algorithm\n",
        "A-Priori 구현을 일관되고 간결하게 하기 위해서 다음의 조건과 기호를 확인합니다. \n",
        "* 하나의 itemset은 tuple로 표현되며 tuple내에서는 아이템 번호기준으로 오름차순 정렬되어 있어야 합니다. \n",
        "    - 예시: (0, 1, 2) 또는 (0, 1)과 같이 표현됩니다. (3, 1, 2)와 같이 표현되면 안됩니다. \n",
        "    - 아이템이 하나인 경우 (0,)과 같이 표현됩니다 (마지막에 `,`가 붙음)\n",
        "* `k`: itemset의 아이템 개수를 의미합니다 (k-tuple). (0, 1, 2)면 k가 3입니다 (3-tuple).\n",
        "* `Ls`: actual frequent tuples의 list입니다. \n",
        "    - `Ls[k]`는 dictionary로 k-tuple을 key로 가지고 value는 해당 tuple의 support를 가집니다. 즉, `Ls`는 `list`이고 각 원소는 `dict`입니다. \n",
        "* `Ck`: candidate k-tuples의 `set`을 의미합니다. \n",
        "\n"
      ],
      "metadata": {
        "id": "2ITf6kWZSU37"
      }
    },
    {
      "cell_type": "markdown",
      "source": [
        "#### Q1. The `generate_candidates` Function Implementation <font color='red'>[20 points]</font>\n",
        "\n",
        "먼저 actual frequent tuples을 입력으로 받아서 candidate tuples을 생성하는 함수를 작성합니다. 구체적으로 `Ls`와 `k`를 입력으로 받아서 `Ck`를 반환해야 합니다. 아래 함수에서 `Fill your code here` 부분을 구현하세요. \n",
        "* `prev_tuples`는 `Ls[k-1]`에서 itemset들만 모아서 사전순으로 정렬한 list입니다. \n",
        "* 조합을 간결하게 하기 위해서 itertools의 combinations을 활용하세요.\n",
        "* *Optional challenge*: 가독성을 해하지 않으면서 최대 5줄 이내로 채워보기! (이렇게 안해도 점수에는 지장없습니다)."
      ],
      "metadata": {
        "id": "SXBToyA3VqP3"
      }
    },
    {
      "cell_type": "code",
      "source": [
        "from itertools import combinations as comb\n",
        "\n",
        "def generate_candidates(Ls, k):\n",
        "    '''\n",
        "    Ls: list of dictionary of {k-tuple : support}\n",
        "    k: size of itemset\n",
        "    '''\n",
        "    Ck = set() # set of candidate k-tuples\n",
        "    prev_tuples = sorted(Ls[k-1].keys()) # list of actual (k-1)-tuples\n",
        "    \n",
        "    for i in comb(prev_tuples, 2):\n",
        "        if i[0][:-1] == i[1][:-1] and i[0][-1] < i[1][-1]:\n",
        "            c = i[0] + i[1][-1:]\n",
        "            [Ck.add(c) for u in prev_tuples if u == c[1:]]\n",
        "    \n",
        "    return Ck"
      ],
      "metadata": {
        "id": "gxhnqUxqai6Y"
      },
      "execution_count": 9,
      "outputs": []
    },
    {
      "cell_type": "markdown",
      "source": [],
      "metadata": {
        "id": "wII1RMNoUjFY"
      }
    },
    {
      "cell_type": "markdown",
      "source": [
        "함수가 제대로 구현되었는지 아래 코드를 수행해서 테스트 하세요 (AssertionError가 발생하지 않아야 함)."
      ],
      "metadata": {
        "id": "7vKMGy_LYENj"
      }
    },
    {
      "cell_type": "code",
      "source": [
        "Ls = list()\n",
        "Ls.append({})   # add dummy dictionary to make index start from 1\n",
        "Ls.append({     # dict of 1-tuples (key) and their supports (value)\n",
        "    (0,) : 10, \n",
        "    (1,) : 10,\n",
        "    (2,) : 10,\n",
        "    (3,) : 10\n",
        "})\n",
        "Ls.append({     # dict of 2-tuples (key) and their supports (value)\n",
        "    (0, 1) : 5,\n",
        "    (0, 2) : 5,\n",
        "    (1, 2) : 5,\n",
        "    (0, 3) : 5\n",
        "})\n",
        "Ls.append({     # dict of 3-tuples (key) and their supports (value)\n",
        "    (0, 1, 2) : 3\n",
        "})\n",
        "\n",
        "ans_C2 = set([(0, 1), (1, 2), (1, 3), (2, 3), (0, 3), (0, 2)]) # do not modify\n",
        "C2 = generate_candidates(Ls, 2)\n",
        "print(\"C2: \" + str(C2))\n",
        "assert C2 == ans_C2\n",
        "\n",
        "ans_C3 = set([(0, 1, 2)]) # do not modify\n",
        "C3 = generate_candidates(Ls, 3)\n",
        "print(\"C3: \" + str(C3))\n",
        "assert C3 == ans_C3\n",
        "\n",
        "ans_C4 = set() # do not modify\n",
        "C4 = generate_candidates(Ls, 4)\n",
        "print(\"C4: \" + str(C4))\n",
        "assert C4 == ans_C4"
      ],
      "metadata": {
        "id": "5e2-zl40T2ku",
        "colab": {
          "base_uri": "https://localhost:8080/"
        },
        "outputId": "a43d76b5-a185-440e-fa34-1af360b55d15"
      },
      "execution_count": 10,
      "outputs": [
        {
          "output_type": "stream",
          "name": "stdout",
          "text": [
            "C2: {(0, 1), (1, 2), (1, 3), (2, 3), (0, 3), (0, 2)}\n",
            "C3: {(0, 1, 2)}\n",
            "C4: set()\n"
          ]
        }
      ]
    },
    {
      "cell_type": "markdown",
      "source": [
        "#### Q2. The `apriori` Function Implementation <font color='red'>[30 points]</font>\n",
        "위에서 구현한 `generate_candidates` 함수와 pyspark API를 활용해서 `apriori`함수를 구현하세요. `apriori`함수는 입력으로 `tran_rdd`와 `supp_threshold`를 입력으로 받습니다 (`supp_threshold`는 0에서 1사이의 값을 가집니다). \n",
        "* transaction data로 부터 support를 count하고 filtering을 할 때는 pyspark RDD transformation API를 활용해야 합니다. \n",
        "* filtering을 할 때는 아래의 `s`를 활용해서 수행해주세요. \n",
        "* `Ls`에서는 위에서 설명한 포맷의 `dict` type의 원소만 있어야 합니다 (그래야 return에서 제대로 dictionary union 됩니다)."
      ],
      "metadata": {
        "id": "UuydeY5gZHFi"
      }
    },
    {
      "cell_type": "code",
      "source": [
        "from collections import ChainMap\n",
        "\n",
        "def apriori(tran_rdd, n, supp_threshold=0.01):\n",
        "    '''\n",
        "    tran_rdd: transaction rdd\n",
        "    n: number of total baskets\n",
        "    supp_threshold: support threshold between 0 and 1\n",
        "    '''\n",
        "    Ls = list() \n",
        "    Ls.append({}) # initialized with a dummy dictionary\n",
        "    s = supp_threshold * n # support threshold\n",
        "\n",
        "    ## count and filter\n",
        "    rdd1 = tran_rdd.map(lambda x: comb(x, 1)) \\\n",
        "                   .flatMap(lambda x: x) \\\n",
        "                   .map(lambda x: (x, 1)) \\\n",
        "                   .reduceByKey(lambda a, b: a + b) \\\n",
        "                   .filter(lambda x: x[1] >= s)\n",
        "\n",
        "    Ls.append({}) # Ls[1]\n",
        "    for x in rdd1.collect():\n",
        "        Ls[1][x[0]] = x[1]\n",
        "\n",
        "    k = 2\n",
        "\n",
        "    while len(Ls[k-1]) != 0:\n",
        "        Ck = generate_candidates(Ls, k)\n",
        "        Dt = tran_rdd.map(lambda x: comb(x, k)) \\\n",
        "                     .flatMap(lambda x: list(x)) \\\n",
        "                     .map(lambda x: (x, 1)) \\\n",
        "                     .reduceByKey(lambda a, b: a + b) \\\n",
        "                     .filter(lambda x: x[1] >= s)\n",
        "        Ls.append({})\n",
        "        for c in Dt.collect():\n",
        "            Ls[k][c[0]] = c[1]\n",
        "        k += 1\n",
        "\n",
        "    return dict(ChainMap(*Ls)) # union of list of dictionaries"
      ],
      "metadata": {
        "id": "jFpmlDF5bG4f"
      },
      "execution_count": 11,
      "outputs": []
    },
    {
      "cell_type": "markdown",
      "source": [
        "#### Q3. Number of Frequent Itemsets <font color='red'>[5 points]</font>\n",
        "`supp_threshold`가 `0.001`일 때 `apriori` 함수에 의해 추출된 itemsets은 총 몇 개인가요? 아래 코드를 수행해서 확인해보세요. "
      ],
      "metadata": {
        "id": "Y0Q2UYk-cjP9"
      }
    },
    {
      "cell_type": "code",
      "source": [
        "n = tran_rdd.count() # total number of baskets\n",
        "L = apriori(tran_rdd, n, supp_threshold=0.001)\n",
        "print('# of frequent itemsets: {}'.format(len(L)))"
      ],
      "metadata": {
        "id": "juwn7A0bZW4j",
        "colab": {
          "base_uri": "https://localhost:8080/"
        },
        "outputId": "47f7e5e9-92b0-4987-e2d6-0c70788b689d"
      },
      "execution_count": 12,
      "outputs": [
        {
          "output_type": "stream",
          "name": "stdout",
          "text": [
            "# of frequent itemsets: 750\n"
          ]
        }
      ]
    },
    {
      "cell_type": "markdown",
      "source": [
        "#### Q4. Association Rule Extractions <font color='red'>[15 points]</font>\n",
        "위에서 구한 결과 `L`로 부터 association rule을 추출하는 함수를 구현하세요. 이때 `conf_threshold`를 기준으로 filtering이 되어야 하고 결과값은 pandas table (dataframe)에 저장이 되어야 합니다. \n",
        "* Table은 `antecedents`, `consequents`, `confidence`, `lift`의 column으로 구성되며 하나의 row는 하나의 association rule을 의미합니다. \n",
        "    - Rule은 `antecedents => consequents`의 형태로 표현되며 이때 confidence와 lift를 계산해 같이 저장합니다. \n",
        "* Table에 하나의 row를 추가하기 위해서 아래의 코드를 활용합니다. `antecedents` (or `consequents`)은 아이템 이름 (string)의 set이어야 합니다. socres는 실수로 저장합니다.\n",
        "```python\n",
        "rules = rules.append({\"antecedents\": a set of item names,\n",
        "                        \"consequents\": a set of item names,\n",
        "                        \"confidence\": confidence score,\n",
        "                        \"lift\": lift score}, ignore_index = True)\n",
        "```"
      ],
      "metadata": {
        "id": "rMX2QQjge_SQ"
      }
    },
    {
      "cell_type": "code",
      "source": [
        "import pandas as pd\n",
        "    \n",
        "def extract_association_reuls(L, n, names, conf_threshold=0.1):\n",
        "    '''\n",
        "    L: dictionary of k-tuple (key) and its support (value)\n",
        "    n: number of total baskets\n",
        "    names: list of item names\n",
        "    conf_threshold: confidence threshold between 0 and 1\n",
        "    '''\n",
        "    rules = pd.DataFrame(columns=['antecedents', 'consequents', 'confidence', 'lift'])\n",
        "\n",
        "    for i in L:\n",
        "        antecedentsSet = set()\n",
        "        antecedentsSet = [antecedentsSet | set(comb(i, k)) for k in range(1, len(i))]\n",
        "        \n",
        "        for antecedents in antecedentsSet:\n",
        "            for a in antecedents:\n",
        "                consequents = sorted(list(set(i) - set(a)))\n",
        "                confidence = L[tuple(i)] / L[tuple(a)] # support(a -> c)/ support(a)\n",
        "                p = L[tuple(consequents)] / n # support(j) / n\n",
        "                lift = confidence / p\n",
        "                if confidence >= conf_threshold:\n",
        "                    rules = rules.append({'antecedents': {names[x] for x in list(a)},\n",
        "                                          'consequents': {names[x] for x in list(consequents)},\n",
        "                                          'confidence': confidence,\n",
        "                                          'lift': lift}, ignore_index = True)\n",
        "        \n",
        "    \n",
        "    return rules"
      ],
      "metadata": {
        "id": "GbuTv4DbfQ4o"
      },
      "execution_count": 25,
      "outputs": []
    },
    {
      "cell_type": "markdown",
      "source": [
        "아래 코드를 실행해서 table 결과를 확인합니다. 구글 colab에는 pandas DataFrame에 대해 몇몇 interactive operations들을 제공합니다 (table 옆의 magicstick을 클릭해보세요)."
      ],
      "metadata": {
        "id": "URWG9amVCvq8"
      }
    },
    {
      "cell_type": "code",
      "source": [
        "rules = extract_association_reuls(L, n, names, conf_threshold=0.05)\n",
        "rules"
      ],
      "metadata": {
        "id": "Yr_6uedwCtUr",
        "colab": {
          "base_uri": "https://localhost:8080/",
          "height": 654
        },
        "outputId": "7c9d544b-3c45-442f-e700-4873849a7507"
      },
      "execution_count": 26,
      "outputs": [
        {
          "output_type": "execute_result",
          "data": {
            "text/plain": [
              "                    antecedents         consequents  confidence      lift\n",
              "0         {whole milk, sausage}            {yogurt}    0.164179  1.911760\n",
              "1          {yogurt, whole milk}           {sausage}    0.131737  2.182917\n",
              "2             {yogurt, sausage}        {whole milk}    0.255814  1.619866\n",
              "3      {rolls/buns, whole milk}           {sausage}    0.081340  1.347825\n",
              "4         {whole milk, sausage}        {rolls/buns}    0.126866  1.153275\n",
              "..                          ...                 ...         ...       ...\n",
              "445                 {beverages}  {other vegetables}    0.104839  0.858622\n",
              "446           {misc. beverages}        {rolls/buns}    0.084746  0.770383\n",
              "447  {long life bakery product}           {sausage}    0.059701  0.989273\n",
              "448             {cream cheese }            {yogurt}    0.067797  0.789448\n",
              "449            {red/blush wine}  {other vegetables}    0.108280  0.886808\n",
              "\n",
              "[450 rows x 4 columns]"
            ],
            "text/html": [
              "\n",
              "  <div id=\"df-88597cd0-5357-465f-b686-1df26bf49d51\">\n",
              "    <div class=\"colab-df-container\">\n",
              "      <div>\n",
              "<style scoped>\n",
              "    .dataframe tbody tr th:only-of-type {\n",
              "        vertical-align: middle;\n",
              "    }\n",
              "\n",
              "    .dataframe tbody tr th {\n",
              "        vertical-align: top;\n",
              "    }\n",
              "\n",
              "    .dataframe thead th {\n",
              "        text-align: right;\n",
              "    }\n",
              "</style>\n",
              "<table border=\"1\" class=\"dataframe\">\n",
              "  <thead>\n",
              "    <tr style=\"text-align: right;\">\n",
              "      <th></th>\n",
              "      <th>antecedents</th>\n",
              "      <th>consequents</th>\n",
              "      <th>confidence</th>\n",
              "      <th>lift</th>\n",
              "    </tr>\n",
              "  </thead>\n",
              "  <tbody>\n",
              "    <tr>\n",
              "      <th>0</th>\n",
              "      <td>{whole milk, sausage}</td>\n",
              "      <td>{yogurt}</td>\n",
              "      <td>0.164179</td>\n",
              "      <td>1.911760</td>\n",
              "    </tr>\n",
              "    <tr>\n",
              "      <th>1</th>\n",
              "      <td>{yogurt, whole milk}</td>\n",
              "      <td>{sausage}</td>\n",
              "      <td>0.131737</td>\n",
              "      <td>2.182917</td>\n",
              "    </tr>\n",
              "    <tr>\n",
              "      <th>2</th>\n",
              "      <td>{yogurt, sausage}</td>\n",
              "      <td>{whole milk}</td>\n",
              "      <td>0.255814</td>\n",
              "      <td>1.619866</td>\n",
              "    </tr>\n",
              "    <tr>\n",
              "      <th>3</th>\n",
              "      <td>{rolls/buns, whole milk}</td>\n",
              "      <td>{sausage}</td>\n",
              "      <td>0.081340</td>\n",
              "      <td>1.347825</td>\n",
              "    </tr>\n",
              "    <tr>\n",
              "      <th>4</th>\n",
              "      <td>{whole milk, sausage}</td>\n",
              "      <td>{rolls/buns}</td>\n",
              "      <td>0.126866</td>\n",
              "      <td>1.153275</td>\n",
              "    </tr>\n",
              "    <tr>\n",
              "      <th>...</th>\n",
              "      <td>...</td>\n",
              "      <td>...</td>\n",
              "      <td>...</td>\n",
              "      <td>...</td>\n",
              "    </tr>\n",
              "    <tr>\n",
              "      <th>445</th>\n",
              "      <td>{beverages}</td>\n",
              "      <td>{other vegetables}</td>\n",
              "      <td>0.104839</td>\n",
              "      <td>0.858622</td>\n",
              "    </tr>\n",
              "    <tr>\n",
              "      <th>446</th>\n",
              "      <td>{misc. beverages}</td>\n",
              "      <td>{rolls/buns}</td>\n",
              "      <td>0.084746</td>\n",
              "      <td>0.770383</td>\n",
              "    </tr>\n",
              "    <tr>\n",
              "      <th>447</th>\n",
              "      <td>{long life bakery product}</td>\n",
              "      <td>{sausage}</td>\n",
              "      <td>0.059701</td>\n",
              "      <td>0.989273</td>\n",
              "    </tr>\n",
              "    <tr>\n",
              "      <th>448</th>\n",
              "      <td>{cream cheese }</td>\n",
              "      <td>{yogurt}</td>\n",
              "      <td>0.067797</td>\n",
              "      <td>0.789448</td>\n",
              "    </tr>\n",
              "    <tr>\n",
              "      <th>449</th>\n",
              "      <td>{red/blush wine}</td>\n",
              "      <td>{other vegetables}</td>\n",
              "      <td>0.108280</td>\n",
              "      <td>0.886808</td>\n",
              "    </tr>\n",
              "  </tbody>\n",
              "</table>\n",
              "<p>450 rows × 4 columns</p>\n",
              "</div>\n",
              "      <button class=\"colab-df-convert\" onclick=\"convertToInteractive('df-88597cd0-5357-465f-b686-1df26bf49d51')\"\n",
              "              title=\"Convert this dataframe to an interactive table.\"\n",
              "              style=\"display:none;\">\n",
              "        \n",
              "  <svg xmlns=\"http://www.w3.org/2000/svg\" height=\"24px\"viewBox=\"0 0 24 24\"\n",
              "       width=\"24px\">\n",
              "    <path d=\"M0 0h24v24H0V0z\" fill=\"none\"/>\n",
              "    <path d=\"M18.56 5.44l.94 2.06.94-2.06 2.06-.94-2.06-.94-.94-2.06-.94 2.06-2.06.94zm-11 1L8.5 8.5l.94-2.06 2.06-.94-2.06-.94L8.5 2.5l-.94 2.06-2.06.94zm10 10l.94 2.06.94-2.06 2.06-.94-2.06-.94-.94-2.06-.94 2.06-2.06.94z\"/><path d=\"M17.41 7.96l-1.37-1.37c-.4-.4-.92-.59-1.43-.59-.52 0-1.04.2-1.43.59L10.3 9.45l-7.72 7.72c-.78.78-.78 2.05 0 2.83L4 21.41c.39.39.9.59 1.41.59.51 0 1.02-.2 1.41-.59l7.78-7.78 2.81-2.81c.8-.78.8-2.07 0-2.86zM5.41 20L4 18.59l7.72-7.72 1.47 1.35L5.41 20z\"/>\n",
              "  </svg>\n",
              "      </button>\n",
              "      \n",
              "  <style>\n",
              "    .colab-df-container {\n",
              "      display:flex;\n",
              "      flex-wrap:wrap;\n",
              "      gap: 12px;\n",
              "    }\n",
              "\n",
              "    .colab-df-convert {\n",
              "      background-color: #E8F0FE;\n",
              "      border: none;\n",
              "      border-radius: 50%;\n",
              "      cursor: pointer;\n",
              "      display: none;\n",
              "      fill: #1967D2;\n",
              "      height: 32px;\n",
              "      padding: 0 0 0 0;\n",
              "      width: 32px;\n",
              "    }\n",
              "\n",
              "    .colab-df-convert:hover {\n",
              "      background-color: #E2EBFA;\n",
              "      box-shadow: 0px 1px 2px rgba(60, 64, 67, 0.3), 0px 1px 3px 1px rgba(60, 64, 67, 0.15);\n",
              "      fill: #174EA6;\n",
              "    }\n",
              "\n",
              "    [theme=dark] .colab-df-convert {\n",
              "      background-color: #3B4455;\n",
              "      fill: #D2E3FC;\n",
              "    }\n",
              "\n",
              "    [theme=dark] .colab-df-convert:hover {\n",
              "      background-color: #434B5C;\n",
              "      box-shadow: 0px 1px 3px 1px rgba(0, 0, 0, 0.15);\n",
              "      filter: drop-shadow(0px 1px 2px rgba(0, 0, 0, 0.3));\n",
              "      fill: #FFFFFF;\n",
              "    }\n",
              "  </style>\n",
              "\n",
              "      <script>\n",
              "        const buttonEl =\n",
              "          document.querySelector('#df-88597cd0-5357-465f-b686-1df26bf49d51 button.colab-df-convert');\n",
              "        buttonEl.style.display =\n",
              "          google.colab.kernel.accessAllowed ? 'block' : 'none';\n",
              "\n",
              "        async function convertToInteractive(key) {\n",
              "          const element = document.querySelector('#df-88597cd0-5357-465f-b686-1df26bf49d51');\n",
              "          const dataTable =\n",
              "            await google.colab.kernel.invokeFunction('convertToInteractive',\n",
              "                                                     [key], {});\n",
              "          if (!dataTable) return;\n",
              "\n",
              "          const docLinkHtml = 'Like what you see? Visit the ' +\n",
              "            '<a target=\"_blank\" href=https://colab.research.google.com/notebooks/data_table.ipynb>data table notebook</a>'\n",
              "            + ' to learn more about interactive tables.';\n",
              "          element.innerHTML = '';\n",
              "          dataTable['output_type'] = 'display_data';\n",
              "          await google.colab.output.renderOutput(dataTable, element);\n",
              "          const docLink = document.createElement('div');\n",
              "          docLink.innerHTML = docLinkHtml;\n",
              "          element.appendChild(docLink);\n",
              "        }\n",
              "      </script>\n",
              "    </div>\n",
              "  </div>\n",
              "  "
            ]
          },
          "metadata": {},
          "execution_count": 26
        }
      ]
    },
    {
      "cell_type": "markdown",
      "source": [
        "#### Q5. Result Analysis <font color='red'>[30 points]</font>\n",
        "* **Top-5 confident rules** [10 points]: confidence score를 기준으로 상위 5개의 rule을 출력하는 코드를 작성하세요 (pandas table을 출력하세요)."
      ],
      "metadata": {
        "id": "MdtbDoccDJ70"
      }
    },
    {
      "cell_type": "code",
      "source": [
        "cs_sort_df = rules.sort_values(by=['confidence'], ascending=False).head(5)\n",
        "cs_sort_df"
      ],
      "metadata": {
        "id": "YuFxc-QkFqMC",
        "colab": {
          "base_uri": "https://localhost:8080/",
          "height": 206
        },
        "outputId": "c57282fc-5039-4493-ae2e-ba6fa67e6949"
      },
      "execution_count": 15,
      "outputs": [
        {
          "output_type": "execute_result",
          "data": {
            "text/plain": [
              "              antecedents   consequents  confidence      lift\n",
              "2       {yogurt, sausage}  {whole milk}    0.255814  1.619866\n",
              "5   {rolls/buns, sausage}  {whole milk}    0.212500  1.345594\n",
              "20        {soda, sausage}  {whole milk}    0.179775  1.138374\n",
              "31  {semi-finished bread}  {whole milk}    0.176056  1.114825\n",
              "11   {rolls/buns, yogurt}  {whole milk}    0.170940  1.082428"
            ],
            "text/html": [
              "\n",
              "  <div id=\"df-fbcb5200-810b-44b3-9702-611df926524f\">\n",
              "    <div class=\"colab-df-container\">\n",
              "      <div>\n",
              "<style scoped>\n",
              "    .dataframe tbody tr th:only-of-type {\n",
              "        vertical-align: middle;\n",
              "    }\n",
              "\n",
              "    .dataframe tbody tr th {\n",
              "        vertical-align: top;\n",
              "    }\n",
              "\n",
              "    .dataframe thead th {\n",
              "        text-align: right;\n",
              "    }\n",
              "</style>\n",
              "<table border=\"1\" class=\"dataframe\">\n",
              "  <thead>\n",
              "    <tr style=\"text-align: right;\">\n",
              "      <th></th>\n",
              "      <th>antecedents</th>\n",
              "      <th>consequents</th>\n",
              "      <th>confidence</th>\n",
              "      <th>lift</th>\n",
              "    </tr>\n",
              "  </thead>\n",
              "  <tbody>\n",
              "    <tr>\n",
              "      <th>2</th>\n",
              "      <td>{yogurt, sausage}</td>\n",
              "      <td>{whole milk}</td>\n",
              "      <td>0.255814</td>\n",
              "      <td>1.619866</td>\n",
              "    </tr>\n",
              "    <tr>\n",
              "      <th>5</th>\n",
              "      <td>{rolls/buns, sausage}</td>\n",
              "      <td>{whole milk}</td>\n",
              "      <td>0.212500</td>\n",
              "      <td>1.345594</td>\n",
              "    </tr>\n",
              "    <tr>\n",
              "      <th>20</th>\n",
              "      <td>{soda, sausage}</td>\n",
              "      <td>{whole milk}</td>\n",
              "      <td>0.179775</td>\n",
              "      <td>1.138374</td>\n",
              "    </tr>\n",
              "    <tr>\n",
              "      <th>31</th>\n",
              "      <td>{semi-finished bread}</td>\n",
              "      <td>{whole milk}</td>\n",
              "      <td>0.176056</td>\n",
              "      <td>1.114825</td>\n",
              "    </tr>\n",
              "    <tr>\n",
              "      <th>11</th>\n",
              "      <td>{rolls/buns, yogurt}</td>\n",
              "      <td>{whole milk}</td>\n",
              "      <td>0.170940</td>\n",
              "      <td>1.082428</td>\n",
              "    </tr>\n",
              "  </tbody>\n",
              "</table>\n",
              "</div>\n",
              "      <button class=\"colab-df-convert\" onclick=\"convertToInteractive('df-fbcb5200-810b-44b3-9702-611df926524f')\"\n",
              "              title=\"Convert this dataframe to an interactive table.\"\n",
              "              style=\"display:none;\">\n",
              "        \n",
              "  <svg xmlns=\"http://www.w3.org/2000/svg\" height=\"24px\"viewBox=\"0 0 24 24\"\n",
              "       width=\"24px\">\n",
              "    <path d=\"M0 0h24v24H0V0z\" fill=\"none\"/>\n",
              "    <path d=\"M18.56 5.44l.94 2.06.94-2.06 2.06-.94-2.06-.94-.94-2.06-.94 2.06-2.06.94zm-11 1L8.5 8.5l.94-2.06 2.06-.94-2.06-.94L8.5 2.5l-.94 2.06-2.06.94zm10 10l.94 2.06.94-2.06 2.06-.94-2.06-.94-.94-2.06-.94 2.06-2.06.94z\"/><path d=\"M17.41 7.96l-1.37-1.37c-.4-.4-.92-.59-1.43-.59-.52 0-1.04.2-1.43.59L10.3 9.45l-7.72 7.72c-.78.78-.78 2.05 0 2.83L4 21.41c.39.39.9.59 1.41.59.51 0 1.02-.2 1.41-.59l7.78-7.78 2.81-2.81c.8-.78.8-2.07 0-2.86zM5.41 20L4 18.59l7.72-7.72 1.47 1.35L5.41 20z\"/>\n",
              "  </svg>\n",
              "      </button>\n",
              "      \n",
              "  <style>\n",
              "    .colab-df-container {\n",
              "      display:flex;\n",
              "      flex-wrap:wrap;\n",
              "      gap: 12px;\n",
              "    }\n",
              "\n",
              "    .colab-df-convert {\n",
              "      background-color: #E8F0FE;\n",
              "      border: none;\n",
              "      border-radius: 50%;\n",
              "      cursor: pointer;\n",
              "      display: none;\n",
              "      fill: #1967D2;\n",
              "      height: 32px;\n",
              "      padding: 0 0 0 0;\n",
              "      width: 32px;\n",
              "    }\n",
              "\n",
              "    .colab-df-convert:hover {\n",
              "      background-color: #E2EBFA;\n",
              "      box-shadow: 0px 1px 2px rgba(60, 64, 67, 0.3), 0px 1px 3px 1px rgba(60, 64, 67, 0.15);\n",
              "      fill: #174EA6;\n",
              "    }\n",
              "\n",
              "    [theme=dark] .colab-df-convert {\n",
              "      background-color: #3B4455;\n",
              "      fill: #D2E3FC;\n",
              "    }\n",
              "\n",
              "    [theme=dark] .colab-df-convert:hover {\n",
              "      background-color: #434B5C;\n",
              "      box-shadow: 0px 1px 3px 1px rgba(0, 0, 0, 0.15);\n",
              "      filter: drop-shadow(0px 1px 2px rgba(0, 0, 0, 0.3));\n",
              "      fill: #FFFFFF;\n",
              "    }\n",
              "  </style>\n",
              "\n",
              "      <script>\n",
              "        const buttonEl =\n",
              "          document.querySelector('#df-fbcb5200-810b-44b3-9702-611df926524f button.colab-df-convert');\n",
              "        buttonEl.style.display =\n",
              "          google.colab.kernel.accessAllowed ? 'block' : 'none';\n",
              "\n",
              "        async function convertToInteractive(key) {\n",
              "          const element = document.querySelector('#df-fbcb5200-810b-44b3-9702-611df926524f');\n",
              "          const dataTable =\n",
              "            await google.colab.kernel.invokeFunction('convertToInteractive',\n",
              "                                                     [key], {});\n",
              "          if (!dataTable) return;\n",
              "\n",
              "          const docLinkHtml = 'Like what you see? Visit the ' +\n",
              "            '<a target=\"_blank\" href=https://colab.research.google.com/notebooks/data_table.ipynb>data table notebook</a>'\n",
              "            + ' to learn more about interactive tables.';\n",
              "          element.innerHTML = '';\n",
              "          dataTable['output_type'] = 'display_data';\n",
              "          await google.colab.output.renderOutput(dataTable, element);\n",
              "          const docLink = document.createElement('div');\n",
              "          docLink.innerHTML = docLinkHtml;\n",
              "          element.appendChild(docLink);\n",
              "        }\n",
              "      </script>\n",
              "    </div>\n",
              "  </div>\n",
              "  "
            ]
          },
          "metadata": {},
          "execution_count": 15
        }
      ]
    },
    {
      "cell_type": "markdown",
      "source": [
        "* **Top-5 interesting rules** [10 points]: lift score를 기준으로 상위 5개의 rule을 출력하는 코드를 작성하세요 (pandas table을 출력하세요)."
      ],
      "metadata": {
        "id": "lLpb1xbZGHb5"
      }
    },
    {
      "cell_type": "code",
      "source": [
        "ls_sort_df = rules.sort_values(by=['lift'], ascending=False).head(5)\n",
        "ls_sort_df"
      ],
      "metadata": {
        "id": "8TPekDTxGM1A",
        "colab": {
          "base_uri": "https://localhost:8080/",
          "height": 206
        },
        "outputId": "662d9145-cfad-411a-d5b5-0014ed9f65d2"
      },
      "execution_count": 16,
      "outputs": [
        {
          "output_type": "execute_result",
          "data": {
            "text/plain": [
              "               antecedents       consequents  confidence      lift\n",
              "1     {yogurt, whole milk}         {sausage}    0.131737  2.182917\n",
              "0    {whole milk, sausage}          {yogurt}    0.164179  1.911760\n",
              "269  {specialty chocolate}    {citrus fruit}    0.087866  1.653762\n",
              "2        {yogurt, sausage}      {whole milk}    0.255814  1.619866\n",
              "423                {flour}  {tropical fruit}    0.109589  1.617141"
            ],
            "text/html": [
              "\n",
              "  <div id=\"df-82e9757c-a180-432c-9c3a-5ecf0cda457e\">\n",
              "    <div class=\"colab-df-container\">\n",
              "      <div>\n",
              "<style scoped>\n",
              "    .dataframe tbody tr th:only-of-type {\n",
              "        vertical-align: middle;\n",
              "    }\n",
              "\n",
              "    .dataframe tbody tr th {\n",
              "        vertical-align: top;\n",
              "    }\n",
              "\n",
              "    .dataframe thead th {\n",
              "        text-align: right;\n",
              "    }\n",
              "</style>\n",
              "<table border=\"1\" class=\"dataframe\">\n",
              "  <thead>\n",
              "    <tr style=\"text-align: right;\">\n",
              "      <th></th>\n",
              "      <th>antecedents</th>\n",
              "      <th>consequents</th>\n",
              "      <th>confidence</th>\n",
              "      <th>lift</th>\n",
              "    </tr>\n",
              "  </thead>\n",
              "  <tbody>\n",
              "    <tr>\n",
              "      <th>1</th>\n",
              "      <td>{yogurt, whole milk}</td>\n",
              "      <td>{sausage}</td>\n",
              "      <td>0.131737</td>\n",
              "      <td>2.182917</td>\n",
              "    </tr>\n",
              "    <tr>\n",
              "      <th>0</th>\n",
              "      <td>{whole milk, sausage}</td>\n",
              "      <td>{yogurt}</td>\n",
              "      <td>0.164179</td>\n",
              "      <td>1.911760</td>\n",
              "    </tr>\n",
              "    <tr>\n",
              "      <th>269</th>\n",
              "      <td>{specialty chocolate}</td>\n",
              "      <td>{citrus fruit}</td>\n",
              "      <td>0.087866</td>\n",
              "      <td>1.653762</td>\n",
              "    </tr>\n",
              "    <tr>\n",
              "      <th>2</th>\n",
              "      <td>{yogurt, sausage}</td>\n",
              "      <td>{whole milk}</td>\n",
              "      <td>0.255814</td>\n",
              "      <td>1.619866</td>\n",
              "    </tr>\n",
              "    <tr>\n",
              "      <th>423</th>\n",
              "      <td>{flour}</td>\n",
              "      <td>{tropical fruit}</td>\n",
              "      <td>0.109589</td>\n",
              "      <td>1.617141</td>\n",
              "    </tr>\n",
              "  </tbody>\n",
              "</table>\n",
              "</div>\n",
              "      <button class=\"colab-df-convert\" onclick=\"convertToInteractive('df-82e9757c-a180-432c-9c3a-5ecf0cda457e')\"\n",
              "              title=\"Convert this dataframe to an interactive table.\"\n",
              "              style=\"display:none;\">\n",
              "        \n",
              "  <svg xmlns=\"http://www.w3.org/2000/svg\" height=\"24px\"viewBox=\"0 0 24 24\"\n",
              "       width=\"24px\">\n",
              "    <path d=\"M0 0h24v24H0V0z\" fill=\"none\"/>\n",
              "    <path d=\"M18.56 5.44l.94 2.06.94-2.06 2.06-.94-2.06-.94-.94-2.06-.94 2.06-2.06.94zm-11 1L8.5 8.5l.94-2.06 2.06-.94-2.06-.94L8.5 2.5l-.94 2.06-2.06.94zm10 10l.94 2.06.94-2.06 2.06-.94-2.06-.94-.94-2.06-.94 2.06-2.06.94z\"/><path d=\"M17.41 7.96l-1.37-1.37c-.4-.4-.92-.59-1.43-.59-.52 0-1.04.2-1.43.59L10.3 9.45l-7.72 7.72c-.78.78-.78 2.05 0 2.83L4 21.41c.39.39.9.59 1.41.59.51 0 1.02-.2 1.41-.59l7.78-7.78 2.81-2.81c.8-.78.8-2.07 0-2.86zM5.41 20L4 18.59l7.72-7.72 1.47 1.35L5.41 20z\"/>\n",
              "  </svg>\n",
              "      </button>\n",
              "      \n",
              "  <style>\n",
              "    .colab-df-container {\n",
              "      display:flex;\n",
              "      flex-wrap:wrap;\n",
              "      gap: 12px;\n",
              "    }\n",
              "\n",
              "    .colab-df-convert {\n",
              "      background-color: #E8F0FE;\n",
              "      border: none;\n",
              "      border-radius: 50%;\n",
              "      cursor: pointer;\n",
              "      display: none;\n",
              "      fill: #1967D2;\n",
              "      height: 32px;\n",
              "      padding: 0 0 0 0;\n",
              "      width: 32px;\n",
              "    }\n",
              "\n",
              "    .colab-df-convert:hover {\n",
              "      background-color: #E2EBFA;\n",
              "      box-shadow: 0px 1px 2px rgba(60, 64, 67, 0.3), 0px 1px 3px 1px rgba(60, 64, 67, 0.15);\n",
              "      fill: #174EA6;\n",
              "    }\n",
              "\n",
              "    [theme=dark] .colab-df-convert {\n",
              "      background-color: #3B4455;\n",
              "      fill: #D2E3FC;\n",
              "    }\n",
              "\n",
              "    [theme=dark] .colab-df-convert:hover {\n",
              "      background-color: #434B5C;\n",
              "      box-shadow: 0px 1px 3px 1px rgba(0, 0, 0, 0.15);\n",
              "      filter: drop-shadow(0px 1px 2px rgba(0, 0, 0, 0.3));\n",
              "      fill: #FFFFFF;\n",
              "    }\n",
              "  </style>\n",
              "\n",
              "      <script>\n",
              "        const buttonEl =\n",
              "          document.querySelector('#df-82e9757c-a180-432c-9c3a-5ecf0cda457e button.colab-df-convert');\n",
              "        buttonEl.style.display =\n",
              "          google.colab.kernel.accessAllowed ? 'block' : 'none';\n",
              "\n",
              "        async function convertToInteractive(key) {\n",
              "          const element = document.querySelector('#df-82e9757c-a180-432c-9c3a-5ecf0cda457e');\n",
              "          const dataTable =\n",
              "            await google.colab.kernel.invokeFunction('convertToInteractive',\n",
              "                                                     [key], {});\n",
              "          if (!dataTable) return;\n",
              "\n",
              "          const docLinkHtml = 'Like what you see? Visit the ' +\n",
              "            '<a target=\"_blank\" href=https://colab.research.google.com/notebooks/data_table.ipynb>data table notebook</a>'\n",
              "            + ' to learn more about interactive tables.';\n",
              "          element.innerHTML = '';\n",
              "          dataTable['output_type'] = 'display_data';\n",
              "          await google.colab.output.renderOutput(dataTable, element);\n",
              "          const docLink = document.createElement('div');\n",
              "          docLink.innerHTML = docLinkHtml;\n",
              "          element.appendChild(docLink);\n",
              "        }\n",
              "      </script>\n",
              "    </div>\n",
              "  </div>\n",
              "  "
            ]
          },
          "metadata": {},
          "execution_count": 16
        }
      ]
    },
    {
      "cell_type": "markdown",
      "source": [
        "* **Interpretation** [10 points]: 위 두 결과를 비교했을 때 뚜렷한 차이가 있나요? 차이가 있다면 어떠한 이유 때문에 차이가 발생하는 것 일까요?"
      ],
      "metadata": {
        "id": "0EVEDHuFGbE9"
      }
    },
    {
      "cell_type": "markdown",
      "source": [
        "```\n",
        "confidence score로 정렬한 경우 support가 높은 consequents 순으로 정렬되는 경향이 있고, lift score의 경우는 그렇지 않았다.\n",
        "support(consequents)가 높다면 confidence score가 높게 측정될 확률이 높지만 그것이 antecedents와 consequents의 연관성을 보장해주진 않기 때문이다.\n",
        "```"
      ],
      "metadata": {
        "id": "XBKtBuOiGs6W"
      }
    },
    {
      "cell_type": "markdown",
      "source": [
        "### Terminate Spark\n",
        "HW2 문제는 여기까지 입니다. 아래는 해당 SparkContext를 종료하는 코드입니다."
      ],
      "metadata": {
        "id": "q47dMf5yG1aX"
      }
    },
    {
      "cell_type": "code",
      "source": [
        "sc.stop()"
      ],
      "metadata": {
        "id": "vu9x3GZaG5oH"
      },
      "execution_count": 27,
      "outputs": []
    }
  ]
}